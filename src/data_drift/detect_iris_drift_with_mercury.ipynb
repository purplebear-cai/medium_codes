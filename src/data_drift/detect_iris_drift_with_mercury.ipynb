{
 "cells": [
  {
   "cell_type": "raw",
   "id": "f5402261",
   "metadata": {},
   "source": [
    "---\n",
    "title: Iris drift detection demo II.\n",
    "description: Data and target drift detection in classification II.\n",
    "show-code: False\n",
    "params:\n",
    "    new_samples:\n",
    "        input: slider\n",
    "        value: 25\n",
    "        label: New samples count\n",
    "        min: 10\n",
    "        max: 75\n",
    "    verbose:\n",
    "        input: checkbox\n",
    "        value: False\n",
    "        label: Verbose \n",
    "---"
   ]
  },
  {
   "cell_type": "code",
   "execution_count": null,
   "id": "18b83b3b",
   "metadata": {},
   "outputs": [],
   "source": [
    "new_samples = 25\n",
    "verbose = False"
   ]
  },
  {
   "cell_type": "code",
   "execution_count": null,
   "id": "eab57923",
   "metadata": {},
   "outputs": [],
   "source": [
    "import sys\n",
    "sys.path.insert(0, \"/Users/caiq/Workspace/emma/medium_codes/src\")\n",
    "%load_ext autoreload\n",
    "%autoreload 2"
   ]
  },
  {
   "cell_type": "code",
   "execution_count": null,
   "id": "8f0b668d",
   "metadata": {},
   "outputs": [],
   "source": [
    "import json\n",
    "import pandas as pd\n",
    "import requests\n",
    "import zipfile\n",
    "import io\n",
    "\n",
    "# machine learning library\n",
    "from sklearn import datasets\n",
    "\n",
    "# data drift library\n",
    "from evidently.dashboard import Dashboard\n",
    "from evidently.dashboard.tabs import DataDriftTab, CatTargetDriftTab\n",
    "\n",
    "# optional\n",
    "import mlflow\n",
    "import mlflow.sklearn\n",
    "from mlflow.tracking import MlflowClient"
   ]
  },
  {
   "cell_type": "code",
   "execution_count": null,
   "id": "230c0876",
   "metadata": {},
   "outputs": [],
   "source": [
    "# global variables\n",
    "reference_samples_count = 100\n",
    "\n",
    "# load iris dataset\n",
    "print(\"Loading Iris dataset ...\")\n",
    "iris = datasets.load_iris()\n",
    "iris_df = pd.DataFrame(iris.data, columns=iris.feature_names)\n",
    "iris_df['target'] = iris.target\n",
    "\n",
    "# use the first 100 samples as a reference data\n",
    "print(\"Computing reference and production data ...\")\n",
    "reference_data = iris_df[:reference_samples_count]\n",
    "production_data = iris_df[-new_samples:]\n",
    "\n",
    "# detect data drift\n",
    "print(\"Computing data drift ...\")\n",
    "iris_data_drift_report = Dashboard(tabs=[DataDriftTab(verbose_level=verbose), \n",
    "                                        CatTargetDriftTab(verbose_level=verbose)])\n",
    "iris_data_drift_report.calculate(reference_data, production_data, column_mapping=None)\n",
    "iris_data_drift_report.show(mode=\"inline\")"
   ]
  }
 ],
 "metadata": {
  "kernelspec": {
   "display_name": "medium_code",
   "language": "python",
   "name": "medium_code"
  },
  "language_info": {
   "codemirror_mode": {
    "name": "ipython",
    "version": 3
   },
   "file_extension": ".py",
   "mimetype": "text/x-python",
   "name": "python",
   "nbconvert_exporter": "python",
   "pygments_lexer": "ipython3",
   "version": "3.8.13"
  }
 },
 "nbformat": 4,
 "nbformat_minor": 5
}
